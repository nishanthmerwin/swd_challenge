{
 "cells": [
  {
   "cell_type": "code",
   "execution_count": 11,
   "metadata": {},
   "outputs": [],
   "source": [
    "from matplotlib import pyplot as plt\n",
    "import json\n",
    "import pandas as pd"
   ]
  },
  {
   "cell_type": "code",
   "execution_count": 104,
   "metadata": {},
   "outputs": [],
   "source": [
    "data = pd.read_table(\"./data/data.tsv\").to_dict(\"records\")"
   ]
  },
  {
   "cell_type": "code",
   "execution_count": 106,
   "metadata": {},
   "outputs": [
    {
     "data": {
      "image/png": "[encoded data removed]",
      "text/plain": [
       "<Figure size 360x216 with 1 Axes>"
      ]
     },
     "metadata": {},
     "output_type": "display_data"
    }
   ],
   "source": [
    "\n",
    "f, ax = plt.subplots(figsize=(5,3))\n",
    "margin=0.6\n",
    "\n",
    "data = sorted(data, key=lambda x:x['2016'])\n",
    "\n",
    "ylabels = [x['region'] for x in data]\n",
    "yaxis = [i for i in range(len(data))]\n",
    "xaxis1 = [x['2000'] for x in data]\n",
    "xaxis2 = [x['2016'] for x in data]\n",
    "\n",
    "\n",
    "for i in range(len(data)):\n",
    "    if data[i]['2000'] < data[i]['2016']:\n",
    "        c = \"green\"\n",
    "    else:\n",
    "        c = \"red\"\n",
    "        \n",
    "    dx = data[i]['2016'] - data[i]['2000']\n",
    "    if dx == 0:\n",
    "        continue\n",
    "    ax.arrow(data[i]['2000'], i, dx,  0, head_width=0.15, head_length=0.5, fc=c, ec=c,\\\n",
    "            lw=4)\n",
    "    #ax.arrow((data[i]['2000'], data[i]['2016']), (i,i), '-', c=c)\n",
    "    \n",
    "ax.scatter(xaxis1, yaxis, label=\"2000\", zorder=10, s=400, c=\"grey\")\n",
    "\n",
    "ax.set_yticklabels([1] + ylabels)\n",
    "ax.set_ylim(0-margin, len(data)-1+margin)\n",
    "ax.set_xlabel(\"Regional share of total tourism contribution to global GDP\")\n",
    "\n",
    "ax.spines['top'].set_visible(False)\n",
    "ax.spines['right'].set_visible(False)\n",
    "\n",
    "plt.savefig(\"./fig/figure.svg\")\n",
    "\n",
    "plt.show()\n",
    "\n",
    "\n",
    "\n"
   ]
  }
 ],
 "metadata": {
  "kernelspec": {
   "display_name": "Python 3",
   "language": "python",
   "name": "python3"
  },
  "language_info": {
   "codemirror_mode": {
    "name": "ipython",
    "version": 3
   },
   "file_extension": ".py",
   "mimetype": "text/x-python",
   "name": "python",
   "nbconvert_exporter": "python",
   "pygments_lexer": "ipython3",
   "version": "3.6.5"
  }
 },
 "nbformat": 4,
 "nbformat_minor": 2
}
